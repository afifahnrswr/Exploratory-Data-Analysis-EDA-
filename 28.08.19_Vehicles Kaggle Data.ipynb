{
 "cells": [
  {
   "cell_type": "markdown",
   "metadata": {},
   "source": [
    "# Use Case : EDA Used Cars Dataset\n",
    "\n",
    "You can access the data in this link .[Dataset](https://www.kaggle.com/austinreese/craigslist-carstrucks-data)\n",
    "<br>\n",
    "Vehicles for sale taken from Craigslist. Blank entries indicate that the listing did not provide said information.\n",
    "\n",
    "* * * "
   ]
  },
  {
   "cell_type": "code",
   "execution_count": 3,
   "metadata": {},
   "outputs": [],
   "source": [
    "import pandas as pd\n",
    "import numpy as np"
   ]
  },
  {
   "cell_type": "code",
   "execution_count": 4,
   "metadata": {},
   "outputs": [
    {
     "data": {
      "text/html": [
       "<div>\n",
       "<style scoped>\n",
       "    .dataframe tbody tr th:only-of-type {\n",
       "        vertical-align: middle;\n",
       "    }\n",
       "\n",
       "    .dataframe tbody tr th {\n",
       "        vertical-align: top;\n",
       "    }\n",
       "\n",
       "    .dataframe thead th {\n",
       "        text-align: right;\n",
       "    }\n",
       "</style>\n",
       "<table border=\"1\" class=\"dataframe\">\n",
       "  <thead>\n",
       "    <tr style=\"text-align: right;\">\n",
       "      <th></th>\n",
       "      <th>url</th>\n",
       "      <th>city</th>\n",
       "      <th>price</th>\n",
       "      <th>year</th>\n",
       "      <th>manufacturer</th>\n",
       "      <th>make</th>\n",
       "      <th>condition</th>\n",
       "      <th>cylinders</th>\n",
       "      <th>fuel</th>\n",
       "      <th>odometer</th>\n",
       "      <th>...</th>\n",
       "      <th>paint_color</th>\n",
       "      <th>image_url</th>\n",
       "      <th>lat</th>\n",
       "      <th>long</th>\n",
       "      <th>county_fips</th>\n",
       "      <th>county_name</th>\n",
       "      <th>state_fips</th>\n",
       "      <th>state_code</th>\n",
       "      <th>state_name</th>\n",
       "      <th>weather</th>\n",
       "    </tr>\n",
       "  </thead>\n",
       "  <tbody>\n",
       "    <tr>\n",
       "      <th>0</th>\n",
       "      <td>https://marshall.craigslist.org/cto/d/2010-dod...</td>\n",
       "      <td>marshall</td>\n",
       "      <td>11900</td>\n",
       "      <td>2010.0</td>\n",
       "      <td>dodge</td>\n",
       "      <td>challenger se</td>\n",
       "      <td>good</td>\n",
       "      <td>6 cylinders</td>\n",
       "      <td>gas</td>\n",
       "      <td>43600.0</td>\n",
       "      <td>...</td>\n",
       "      <td>red</td>\n",
       "      <td>https://images.craigslist.org/00i0i_2ggH1eKDNK...</td>\n",
       "      <td>43.4775</td>\n",
       "      <td>-96.7041</td>\n",
       "      <td>46083.0</td>\n",
       "      <td>Lincoln</td>\n",
       "      <td>46.0</td>\n",
       "      <td>SD</td>\n",
       "      <td>South Dakota</td>\n",
       "      <td>38.0</td>\n",
       "    </tr>\n",
       "    <tr>\n",
       "      <th>1</th>\n",
       "      <td>https://marshall.craigslist.org/cto/d/fleetwoo...</td>\n",
       "      <td>marshall</td>\n",
       "      <td>1515</td>\n",
       "      <td>1999.0</td>\n",
       "      <td>NaN</td>\n",
       "      <td>fleetwood</td>\n",
       "      <td>NaN</td>\n",
       "      <td>NaN</td>\n",
       "      <td>gas</td>\n",
       "      <td>NaN</td>\n",
       "      <td>...</td>\n",
       "      <td>NaN</td>\n",
       "      <td>https://images.craigslist.org/00M0M_irjh7SjEcU...</td>\n",
       "      <td>44.7612</td>\n",
       "      <td>-96.6907</td>\n",
       "      <td>46039.0</td>\n",
       "      <td>Deuel</td>\n",
       "      <td>46.0</td>\n",
       "      <td>SD</td>\n",
       "      <td>South Dakota</td>\n",
       "      <td>38.0</td>\n",
       "    </tr>\n",
       "    <tr>\n",
       "      <th>2</th>\n",
       "      <td>https://marshall.craigslist.org/cto/d/2008-for...</td>\n",
       "      <td>marshall</td>\n",
       "      <td>17550</td>\n",
       "      <td>2008.0</td>\n",
       "      <td>ford</td>\n",
       "      <td>f-150</td>\n",
       "      <td>NaN</td>\n",
       "      <td>NaN</td>\n",
       "      <td>gas</td>\n",
       "      <td>NaN</td>\n",
       "      <td>...</td>\n",
       "      <td>NaN</td>\n",
       "      <td>https://images.craigslist.org/00s0s_eL2XFhEUcx...</td>\n",
       "      <td>44.1415</td>\n",
       "      <td>-103.2052</td>\n",
       "      <td>46093.0</td>\n",
       "      <td>Meade</td>\n",
       "      <td>46.0</td>\n",
       "      <td>SD</td>\n",
       "      <td>South Dakota</td>\n",
       "      <td>38.0</td>\n",
       "    </tr>\n",
       "  </tbody>\n",
       "</table>\n",
       "<p>3 rows × 26 columns</p>\n",
       "</div>"
      ],
      "text/plain": [
       "                                                 url      city  price    year  \\\n",
       "0  https://marshall.craigslist.org/cto/d/2010-dod...  marshall  11900  2010.0   \n",
       "1  https://marshall.craigslist.org/cto/d/fleetwoo...  marshall   1515  1999.0   \n",
       "2  https://marshall.craigslist.org/cto/d/2008-for...  marshall  17550  2008.0   \n",
       "\n",
       "  manufacturer           make condition    cylinders fuel  odometer   ...     \\\n",
       "0        dodge  challenger se      good  6 cylinders  gas   43600.0   ...      \n",
       "1          NaN      fleetwood       NaN          NaN  gas       NaN   ...      \n",
       "2         ford          f-150       NaN          NaN  gas       NaN   ...      \n",
       "\n",
       "  paint_color                                          image_url      lat  \\\n",
       "0         red  https://images.craigslist.org/00i0i_2ggH1eKDNK...  43.4775   \n",
       "1         NaN  https://images.craigslist.org/00M0M_irjh7SjEcU...  44.7612   \n",
       "2         NaN  https://images.craigslist.org/00s0s_eL2XFhEUcx...  44.1415   \n",
       "\n",
       "       long county_fips county_name state_fips state_code    state_name  \\\n",
       "0  -96.7041     46083.0     Lincoln       46.0         SD  South Dakota   \n",
       "1  -96.6907     46039.0       Deuel       46.0         SD  South Dakota   \n",
       "2 -103.2052     46093.0       Meade       46.0         SD  South Dakota   \n",
       "\n",
       "   weather  \n",
       "0     38.0  \n",
       "1     38.0  \n",
       "2     38.0  \n",
       "\n",
       "[3 rows x 26 columns]"
      ]
     },
     "execution_count": 4,
     "metadata": {},
     "output_type": "execute_result"
    }
   ],
   "source": [
    "# Import Data\n",
    "vehicles = pd.read_csv('craigslist-carstrucks-data/craigslistVehiclesFull.csv')\n",
    "vehicles.head(3)"
   ]
  },
  {
   "cell_type": "code",
   "execution_count": 5,
   "metadata": {},
   "outputs": [
    {
     "data": {
      "text/plain": [
       "(1723065, 26)"
      ]
     },
     "execution_count": 5,
     "metadata": {},
     "output_type": "execute_result"
    }
   ],
   "source": [
    "vehicles.shape"
   ]
  },
  {
   "cell_type": "markdown",
   "metadata": {},
   "source": [
    "url          = Link to listing <br>\n",
    "cityCraigs   = list region in which this listing was posted <br>\n",
    "city_url     = Link to region page <br>\n",
    "price        = Price of vehicle <br>\n",
    "year         = Year of vehicle <br>\n",
    "manufacturer = Manufacturer of vehicle <br>\n",
    "make         = Make of vehicle <br>\n",
    "condition    = Vehicle condition <br>\n",
    "cylinders    = Number of cylinders <br>\n",
    "fuel         = Type of fuel required <br>\n",
    "odometer     = Miles traveled <br>\n",
    "title_status = Title status (e.g. clean, missing, etc.) <br>\n",
    "transmission = Type of transmission <br>\n",
    "vin          = Vehicle Identification Number <br>\n",
    "drive        = Drive of vehicle <br>\n",
    "size         = Size of vehicle <br>\n",
    "type         = Type of vehicle <br>\n",
    "paint_color  = Color of vehicle <br>\n",
    "image_url    = Link to image <br>\n",
    "lat          = Latitude of listing <br>\n",
    "long         = Longitude of listing <br>\n",
    "county_fips  = Federal Information Processing Standards code <br>\n",
    "county_name  = County of listing <br>\n",
    "state_fips   = Federal Information Processing Standards code <br>\n",
    "state_code   = 2 letter state code <br>\n",
    "state_name   = State name <br>\n",
    "weather      = Historical average temperature for location in October/November <br>"
   ]
  },
  {
   "cell_type": "code",
   "execution_count": 6,
   "metadata": {},
   "outputs": [
    {
     "data": {
      "text/plain": [
       "url              object\n",
       "city             object\n",
       "price             int64\n",
       "year            float64\n",
       "manufacturer     object\n",
       "make             object\n",
       "condition        object\n",
       "cylinders        object\n",
       "fuel             object\n",
       "odometer        float64\n",
       "title_status     object\n",
       "transmission     object\n",
       "vin              object\n",
       "drive            object\n",
       "size             object\n",
       "type             object\n",
       "paint_color      object\n",
       "image_url        object\n",
       "lat             float64\n",
       "long            float64\n",
       "county_fips     float64\n",
       "county_name      object\n",
       "state_fips      float64\n",
       "state_code       object\n",
       "state_name       object\n",
       "weather         float64\n",
       "dtype: object"
      ]
     },
     "execution_count": 6,
     "metadata": {},
     "output_type": "execute_result"
    }
   ],
   "source": [
    "# Type of the Data\n",
    "vehicles.dtypes"
   ]
  },
  {
   "cell_type": "markdown",
   "metadata": {},
   "source": [
    "There are some variable that we can say \"unique variable\". We can said like that because we can't analyze that variable."
   ]
  },
  {
   "cell_type": "code",
   "execution_count": 7,
   "metadata": {},
   "outputs": [
    {
     "data": {
      "text/html": [
       "<div>\n",
       "<style scoped>\n",
       "    .dataframe tbody tr th:only-of-type {\n",
       "        vertical-align: middle;\n",
       "    }\n",
       "\n",
       "    .dataframe tbody tr th {\n",
       "        vertical-align: top;\n",
       "    }\n",
       "\n",
       "    .dataframe thead th {\n",
       "        text-align: right;\n",
       "    }\n",
       "</style>\n",
       "<table border=\"1\" class=\"dataframe\">\n",
       "  <thead>\n",
       "    <tr style=\"text-align: right;\">\n",
       "      <th></th>\n",
       "      <th>city</th>\n",
       "      <th>price</th>\n",
       "      <th>year</th>\n",
       "      <th>manufacturer</th>\n",
       "      <th>make</th>\n",
       "      <th>condition</th>\n",
       "      <th>cylinders</th>\n",
       "      <th>fuel</th>\n",
       "      <th>odometer</th>\n",
       "      <th>title_status</th>\n",
       "      <th>...</th>\n",
       "      <th>type</th>\n",
       "      <th>paint_color</th>\n",
       "      <th>lat</th>\n",
       "      <th>long</th>\n",
       "      <th>county_fips</th>\n",
       "      <th>county_name</th>\n",
       "      <th>state_fips</th>\n",
       "      <th>state_code</th>\n",
       "      <th>state_name</th>\n",
       "      <th>weather</th>\n",
       "    </tr>\n",
       "  </thead>\n",
       "  <tbody>\n",
       "    <tr>\n",
       "      <th>0</th>\n",
       "      <td>marshall</td>\n",
       "      <td>11900</td>\n",
       "      <td>2010.0</td>\n",
       "      <td>dodge</td>\n",
       "      <td>challenger se</td>\n",
       "      <td>good</td>\n",
       "      <td>6 cylinders</td>\n",
       "      <td>gas</td>\n",
       "      <td>43600.0</td>\n",
       "      <td>clean</td>\n",
       "      <td>...</td>\n",
       "      <td>coupe</td>\n",
       "      <td>red</td>\n",
       "      <td>43.4775</td>\n",
       "      <td>-96.7041</td>\n",
       "      <td>46083.0</td>\n",
       "      <td>Lincoln</td>\n",
       "      <td>46.0</td>\n",
       "      <td>SD</td>\n",
       "      <td>South Dakota</td>\n",
       "      <td>38.0</td>\n",
       "    </tr>\n",
       "    <tr>\n",
       "      <th>1</th>\n",
       "      <td>marshall</td>\n",
       "      <td>1515</td>\n",
       "      <td>1999.0</td>\n",
       "      <td>NaN</td>\n",
       "      <td>fleetwood</td>\n",
       "      <td>NaN</td>\n",
       "      <td>NaN</td>\n",
       "      <td>gas</td>\n",
       "      <td>NaN</td>\n",
       "      <td>clean</td>\n",
       "      <td>...</td>\n",
       "      <td>NaN</td>\n",
       "      <td>NaN</td>\n",
       "      <td>44.7612</td>\n",
       "      <td>-96.6907</td>\n",
       "      <td>46039.0</td>\n",
       "      <td>Deuel</td>\n",
       "      <td>46.0</td>\n",
       "      <td>SD</td>\n",
       "      <td>South Dakota</td>\n",
       "      <td>38.0</td>\n",
       "    </tr>\n",
       "    <tr>\n",
       "      <th>2</th>\n",
       "      <td>marshall</td>\n",
       "      <td>17550</td>\n",
       "      <td>2008.0</td>\n",
       "      <td>ford</td>\n",
       "      <td>f-150</td>\n",
       "      <td>NaN</td>\n",
       "      <td>NaN</td>\n",
       "      <td>gas</td>\n",
       "      <td>NaN</td>\n",
       "      <td>clean</td>\n",
       "      <td>...</td>\n",
       "      <td>NaN</td>\n",
       "      <td>NaN</td>\n",
       "      <td>44.1415</td>\n",
       "      <td>-103.2052</td>\n",
       "      <td>46093.0</td>\n",
       "      <td>Meade</td>\n",
       "      <td>46.0</td>\n",
       "      <td>SD</td>\n",
       "      <td>South Dakota</td>\n",
       "      <td>38.0</td>\n",
       "    </tr>\n",
       "  </tbody>\n",
       "</table>\n",
       "<p>3 rows × 24 columns</p>\n",
       "</div>"
      ],
      "text/plain": [
       "       city  price    year manufacturer           make condition    cylinders  \\\n",
       "0  marshall  11900  2010.0        dodge  challenger se      good  6 cylinders   \n",
       "1  marshall   1515  1999.0          NaN      fleetwood       NaN          NaN   \n",
       "2  marshall  17550  2008.0         ford          f-150       NaN          NaN   \n",
       "\n",
       "  fuel  odometer title_status   ...     type paint_color      lat      long  \\\n",
       "0  gas   43600.0        clean   ...    coupe         red  43.4775  -96.7041   \n",
       "1  gas       NaN        clean   ...      NaN         NaN  44.7612  -96.6907   \n",
       "2  gas       NaN        clean   ...      NaN         NaN  44.1415 -103.2052   \n",
       "\n",
       "  county_fips county_name  state_fips  state_code    state_name weather  \n",
       "0     46083.0     Lincoln        46.0          SD  South Dakota    38.0  \n",
       "1     46039.0       Deuel        46.0          SD  South Dakota    38.0  \n",
       "2     46093.0       Meade        46.0          SD  South Dakota    38.0  \n",
       "\n",
       "[3 rows x 24 columns]"
      ]
     },
     "execution_count": 7,
     "metadata": {},
     "output_type": "execute_result"
    }
   ],
   "source": [
    "df = vehicles.drop(['url','image_url' ],axis=1)\n",
    "df.head(3)"
   ]
  },
  {
   "cell_type": "markdown",
   "metadata": {},
   "source": [
    "### Missing Value Detection"
   ]
  },
  {
   "cell_type": "code",
   "execution_count": 8,
   "metadata": {},
   "outputs": [
    {
     "data": {
      "text/plain": [
       "size            1123967\n",
       "vin             1118215\n",
       "type             702931\n",
       "condition        700790\n",
       "paint_color      695650\n",
       "cylinders        691291\n",
       "drive            661884\n",
       "odometer         564054\n",
       "manufacturer     136414\n",
       "make              69699\n",
       "weather           59428\n",
       "county_fips       58833\n",
       "county_name       58833\n",
       "state_fips        58833\n",
       "state_code        58833\n",
       "fuel              10367\n",
       "transmission       9022\n",
       "year               6315\n",
       "title_status       2554\n",
       "lat                   0\n",
       "state_name            0\n",
       "long                  0\n",
       "price                 0\n",
       "city                  0\n",
       "dtype: int64"
      ]
     },
     "execution_count": 8,
     "metadata": {},
     "output_type": "execute_result"
    }
   ],
   "source": [
    "#count how many missing values per field (order)\n",
    "df_null = df.isnull().sum().sort_values(ascending = False)\n",
    "df_null"
   ]
  },
  {
   "cell_type": "code",
   "execution_count": 9,
   "metadata": {},
   "outputs": [
    {
     "name": "stdout",
     "output_type": "stream",
     "text": [
      "% Missing value of size = 65.0\n",
      "% Missing value of vin = 65.0\n",
      "% Missing value of type = 41.0\n"
     ]
    }
   ],
   "source": [
    "# Detect the percentage of missing value\n",
    "print('% Missing value of size =', round(df_null[0]/1723065 * 100))\n",
    "print('% Missing value of vin =', round(df_null[1]/1723065 * 100))\n",
    "print('% Missing value of type =', round(df_null[2]/1723065 * 100))"
   ]
  },
  {
   "cell_type": "markdown",
   "metadata": {},
   "source": [
    "Because of there are two variable that have missing value more than 60%, so variable size and vin also deleted."
   ]
  },
  {
   "cell_type": "code",
   "execution_count": 10,
   "metadata": {},
   "outputs": [
    {
     "data": {
      "text/html": [
       "<div>\n",
       "<style scoped>\n",
       "    .dataframe tbody tr th:only-of-type {\n",
       "        vertical-align: middle;\n",
       "    }\n",
       "\n",
       "    .dataframe tbody tr th {\n",
       "        vertical-align: top;\n",
       "    }\n",
       "\n",
       "    .dataframe thead th {\n",
       "        text-align: right;\n",
       "    }\n",
       "</style>\n",
       "<table border=\"1\" class=\"dataframe\">\n",
       "  <thead>\n",
       "    <tr style=\"text-align: right;\">\n",
       "      <th></th>\n",
       "      <th>city</th>\n",
       "      <th>price</th>\n",
       "      <th>year</th>\n",
       "      <th>manufacturer</th>\n",
       "      <th>make</th>\n",
       "      <th>condition</th>\n",
       "      <th>cylinders</th>\n",
       "      <th>fuel</th>\n",
       "      <th>odometer</th>\n",
       "      <th>title_status</th>\n",
       "      <th>...</th>\n",
       "      <th>type</th>\n",
       "      <th>paint_color</th>\n",
       "      <th>lat</th>\n",
       "      <th>long</th>\n",
       "      <th>county_fips</th>\n",
       "      <th>county_name</th>\n",
       "      <th>state_fips</th>\n",
       "      <th>state_code</th>\n",
       "      <th>state_name</th>\n",
       "      <th>weather</th>\n",
       "    </tr>\n",
       "  </thead>\n",
       "  <tbody>\n",
       "    <tr>\n",
       "      <th>0</th>\n",
       "      <td>marshall</td>\n",
       "      <td>11900</td>\n",
       "      <td>2010.0</td>\n",
       "      <td>dodge</td>\n",
       "      <td>challenger se</td>\n",
       "      <td>good</td>\n",
       "      <td>6 cylinders</td>\n",
       "      <td>gas</td>\n",
       "      <td>43600.0</td>\n",
       "      <td>clean</td>\n",
       "      <td>...</td>\n",
       "      <td>coupe</td>\n",
       "      <td>red</td>\n",
       "      <td>43.4775</td>\n",
       "      <td>-96.7041</td>\n",
       "      <td>46083.0</td>\n",
       "      <td>Lincoln</td>\n",
       "      <td>46.0</td>\n",
       "      <td>SD</td>\n",
       "      <td>South Dakota</td>\n",
       "      <td>38.0</td>\n",
       "    </tr>\n",
       "    <tr>\n",
       "      <th>1</th>\n",
       "      <td>marshall</td>\n",
       "      <td>1515</td>\n",
       "      <td>1999.0</td>\n",
       "      <td>NaN</td>\n",
       "      <td>fleetwood</td>\n",
       "      <td>NaN</td>\n",
       "      <td>NaN</td>\n",
       "      <td>gas</td>\n",
       "      <td>NaN</td>\n",
       "      <td>clean</td>\n",
       "      <td>...</td>\n",
       "      <td>NaN</td>\n",
       "      <td>NaN</td>\n",
       "      <td>44.7612</td>\n",
       "      <td>-96.6907</td>\n",
       "      <td>46039.0</td>\n",
       "      <td>Deuel</td>\n",
       "      <td>46.0</td>\n",
       "      <td>SD</td>\n",
       "      <td>South Dakota</td>\n",
       "      <td>38.0</td>\n",
       "    </tr>\n",
       "    <tr>\n",
       "      <th>2</th>\n",
       "      <td>marshall</td>\n",
       "      <td>17550</td>\n",
       "      <td>2008.0</td>\n",
       "      <td>ford</td>\n",
       "      <td>f-150</td>\n",
       "      <td>NaN</td>\n",
       "      <td>NaN</td>\n",
       "      <td>gas</td>\n",
       "      <td>NaN</td>\n",
       "      <td>clean</td>\n",
       "      <td>...</td>\n",
       "      <td>NaN</td>\n",
       "      <td>NaN</td>\n",
       "      <td>44.1415</td>\n",
       "      <td>-103.2052</td>\n",
       "      <td>46093.0</td>\n",
       "      <td>Meade</td>\n",
       "      <td>46.0</td>\n",
       "      <td>SD</td>\n",
       "      <td>South Dakota</td>\n",
       "      <td>38.0</td>\n",
       "    </tr>\n",
       "  </tbody>\n",
       "</table>\n",
       "<p>3 rows × 22 columns</p>\n",
       "</div>"
      ],
      "text/plain": [
       "       city  price    year manufacturer           make condition    cylinders  \\\n",
       "0  marshall  11900  2010.0        dodge  challenger se      good  6 cylinders   \n",
       "1  marshall   1515  1999.0          NaN      fleetwood       NaN          NaN   \n",
       "2  marshall  17550  2008.0         ford          f-150       NaN          NaN   \n",
       "\n",
       "  fuel  odometer title_status   ...     type paint_color      lat      long  \\\n",
       "0  gas   43600.0        clean   ...    coupe         red  43.4775  -96.7041   \n",
       "1  gas       NaN        clean   ...      NaN         NaN  44.7612  -96.6907   \n",
       "2  gas       NaN        clean   ...      NaN         NaN  44.1415 -103.2052   \n",
       "\n",
       "   county_fips  county_name  state_fips state_code    state_name weather  \n",
       "0      46083.0      Lincoln        46.0         SD  South Dakota    38.0  \n",
       "1      46039.0        Deuel        46.0         SD  South Dakota    38.0  \n",
       "2      46093.0        Meade        46.0         SD  South Dakota    38.0  \n",
       "\n",
       "[3 rows x 22 columns]"
      ]
     },
     "execution_count": 10,
     "metadata": {},
     "output_type": "execute_result"
    }
   ],
   "source": [
    "df1 = df.drop(['size','vin' ],axis=1)\n",
    "df1.head(3)"
   ]
  },
  {
   "cell_type": "code",
   "execution_count": 11,
   "metadata": {},
   "outputs": [
    {
     "name": "stdout",
     "output_type": "stream",
     "text": [
      "<class 'pandas.core.frame.DataFrame'>\n",
      "RangeIndex: 1723065 entries, 0 to 1723064\n",
      "Data columns (total 22 columns):\n",
      "city            object\n",
      "price           int64\n",
      "year            object\n",
      "manufacturer    object\n",
      "make            object\n",
      "condition       object\n",
      "cylinders       object\n",
      "fuel            object\n",
      "odometer        float64\n",
      "title_status    object\n",
      "transmission    object\n",
      "drive           object\n",
      "type            object\n",
      "paint_color     object\n",
      "lat             float64\n",
      "long            float64\n",
      "county_fips     float64\n",
      "county_name     object\n",
      "state_fips      float64\n",
      "state_code      object\n",
      "state_name      object\n",
      "weather         float64\n",
      "dtypes: float64(6), int64(1), object(15)\n",
      "memory usage: 289.2+ MB\n"
     ]
    }
   ],
   "source": [
    "# Change data type\n",
    "df1['year'] = df1.year.astype(str)\n",
    "df1.info()"
   ]
  },
  {
   "cell_type": "code",
   "execution_count": 12,
   "metadata": {},
   "outputs": [],
   "source": [
    "# separate data become numerical and categorical data\n",
    "kategorik=['city', 'year','manufacturer','make', 'condition', \n",
    "           'cylinders', 'fuel', 'title_status', 'transmission', 'drive', 'type',\n",
    "           'paint_color', 'county_name', 'state_code', 'state_name']\n",
    "numerical=df1.drop(kategorik,axis=1)\n",
    "categorical=df1[kategorik]"
   ]
  },
  {
   "cell_type": "code",
   "execution_count": 13,
   "metadata": {},
   "outputs": [
    {
     "data": {
      "text/html": [
       "<div>\n",
       "<style scoped>\n",
       "    .dataframe tbody tr th:only-of-type {\n",
       "        vertical-align: middle;\n",
       "    }\n",
       "\n",
       "    .dataframe tbody tr th {\n",
       "        vertical-align: top;\n",
       "    }\n",
       "\n",
       "    .dataframe thead th {\n",
       "        text-align: right;\n",
       "    }\n",
       "</style>\n",
       "<table border=\"1\" class=\"dataframe\">\n",
       "  <thead>\n",
       "    <tr style=\"text-align: right;\">\n",
       "      <th></th>\n",
       "      <th>price</th>\n",
       "      <th>odometer</th>\n",
       "      <th>lat</th>\n",
       "      <th>long</th>\n",
       "      <th>county_fips</th>\n",
       "      <th>state_fips</th>\n",
       "      <th>weather</th>\n",
       "    </tr>\n",
       "  </thead>\n",
       "  <tbody>\n",
       "    <tr>\n",
       "      <th>count</th>\n",
       "      <td>1.723065e+06</td>\n",
       "      <td>1.159011e+06</td>\n",
       "      <td>1.723065e+06</td>\n",
       "      <td>1.723065e+06</td>\n",
       "      <td>1.664232e+06</td>\n",
       "      <td>1.664232e+06</td>\n",
       "      <td>1.663637e+06</td>\n",
       "    </tr>\n",
       "    <tr>\n",
       "      <th>mean</th>\n",
       "      <td>1.075540e+05</td>\n",
       "      <td>1.136387e+05</td>\n",
       "      <td>3.878195e+01</td>\n",
       "      <td>-9.371198e+01</td>\n",
       "      <td>2.843053e+04</td>\n",
       "      <td>2.834410e+01</td>\n",
       "      <td>5.378706e+01</td>\n",
       "    </tr>\n",
       "    <tr>\n",
       "      <th>std</th>\n",
       "      <td>1.004439e+07</td>\n",
       "      <td>1.368603e+05</td>\n",
       "      <td>5.976412e+00</td>\n",
       "      <td>1.696519e+01</td>\n",
       "      <td>1.605423e+04</td>\n",
       "      <td>1.603224e+01</td>\n",
       "      <td>7.799381e+00</td>\n",
       "    </tr>\n",
       "    <tr>\n",
       "      <th>min</th>\n",
       "      <td>1.000000e+00</td>\n",
       "      <td>0.000000e+00</td>\n",
       "      <td>-8.481005e+01</td>\n",
       "      <td>-1.000000e+03</td>\n",
       "      <td>1.001000e+03</td>\n",
       "      <td>1.000000e+00</td>\n",
       "      <td>2.900000e+01</td>\n",
       "    </tr>\n",
       "    <tr>\n",
       "      <th>25%</th>\n",
       "      <td>3.295000e+03</td>\n",
       "      <td>5.800000e+04</td>\n",
       "      <td>3.491900e+01</td>\n",
       "      <td>-1.058010e+02</td>\n",
       "      <td>1.212300e+04</td>\n",
       "      <td>1.200000e+01</td>\n",
       "      <td>4.800000e+01</td>\n",
       "    </tr>\n",
       "    <tr>\n",
       "      <th>50%</th>\n",
       "      <td>7.000000e+03</td>\n",
       "      <td>1.070000e+05</td>\n",
       "      <td>3.940989e+01</td>\n",
       "      <td>-8.824070e+01</td>\n",
       "      <td>2.902100e+04</td>\n",
       "      <td>2.900000e+01</td>\n",
       "      <td>5.300000e+01</td>\n",
       "    </tr>\n",
       "    <tr>\n",
       "      <th>75%</th>\n",
       "      <td>1.499900e+04</td>\n",
       "      <td>1.520000e+05</td>\n",
       "      <td>4.255459e+01</td>\n",
       "      <td>-8.102650e+01</td>\n",
       "      <td>4.106700e+04</td>\n",
       "      <td>4.100000e+01</td>\n",
       "      <td>5.900000e+01</td>\n",
       "    </tr>\n",
       "    <tr>\n",
       "      <th>max</th>\n",
       "      <td>2.068627e+09</td>\n",
       "      <td>1.000000e+07</td>\n",
       "      <td>9.000000e+01</td>\n",
       "      <td>1.397061e+02</td>\n",
       "      <td>5.604500e+04</td>\n",
       "      <td>5.600000e+01</td>\n",
       "      <td>7.900000e+01</td>\n",
       "    </tr>\n",
       "  </tbody>\n",
       "</table>\n",
       "</div>"
      ],
      "text/plain": [
       "              price      odometer           lat          long   county_fips  \\\n",
       "count  1.723065e+06  1.159011e+06  1.723065e+06  1.723065e+06  1.664232e+06   \n",
       "mean   1.075540e+05  1.136387e+05  3.878195e+01 -9.371198e+01  2.843053e+04   \n",
       "std    1.004439e+07  1.368603e+05  5.976412e+00  1.696519e+01  1.605423e+04   \n",
       "min    1.000000e+00  0.000000e+00 -8.481005e+01 -1.000000e+03  1.001000e+03   \n",
       "25%    3.295000e+03  5.800000e+04  3.491900e+01 -1.058010e+02  1.212300e+04   \n",
       "50%    7.000000e+03  1.070000e+05  3.940989e+01 -8.824070e+01  2.902100e+04   \n",
       "75%    1.499900e+04  1.520000e+05  4.255459e+01 -8.102650e+01  4.106700e+04   \n",
       "max    2.068627e+09  1.000000e+07  9.000000e+01  1.397061e+02  5.604500e+04   \n",
       "\n",
       "         state_fips       weather  \n",
       "count  1.664232e+06  1.663637e+06  \n",
       "mean   2.834410e+01  5.378706e+01  \n",
       "std    1.603224e+01  7.799381e+00  \n",
       "min    1.000000e+00  2.900000e+01  \n",
       "25%    1.200000e+01  4.800000e+01  \n",
       "50%    2.900000e+01  5.300000e+01  \n",
       "75%    4.100000e+01  5.900000e+01  \n",
       "max    5.600000e+01  7.900000e+01  "
      ]
     },
     "execution_count": 13,
     "metadata": {},
     "output_type": "execute_result"
    }
   ],
   "source": [
    "numerical.describe()"
   ]
  },
  {
   "cell_type": "code",
   "execution_count": 14,
   "metadata": {},
   "outputs": [
    {
     "data": {
      "text/plain": [
       "odometer       564054\n",
       "weather         59428\n",
       "state_fips      58833\n",
       "county_fips     58833\n",
       "long                0\n",
       "lat                 0\n",
       "price               0\n",
       "dtype: int64"
      ]
     },
     "execution_count": 14,
     "metadata": {},
     "output_type": "execute_result"
    }
   ],
   "source": [
    "numerical.isnull().sum().sort_values(ascending = False)"
   ]
  },
  {
   "cell_type": "code",
   "execution_count": 27,
   "metadata": {},
   "outputs": [
    {
     "data": {
      "text/plain": [
       "weather        0\n",
       "state_fips     0\n",
       "county_fips    0\n",
       "long           0\n",
       "lat            0\n",
       "odometer       0\n",
       "price          0\n",
       "dtype: int64"
      ]
     },
     "execution_count": 27,
     "metadata": {},
     "output_type": "execute_result"
    }
   ],
   "source": [
    "# Fill missing value with mean - for numerical data\n",
    "numerical = numerical.fillna((numerical.mean()))\n",
    "numerical.isnull().sum().sort_values(ascending = False)"
   ]
  },
  {
   "cell_type": "code",
   "execution_count": 16,
   "metadata": {},
   "outputs": [
    {
     "data": {
      "text/html": [
       "<div>\n",
       "<style scoped>\n",
       "    .dataframe tbody tr th:only-of-type {\n",
       "        vertical-align: middle;\n",
       "    }\n",
       "\n",
       "    .dataframe tbody tr th {\n",
       "        vertical-align: top;\n",
       "    }\n",
       "\n",
       "    .dataframe thead th {\n",
       "        text-align: right;\n",
       "    }\n",
       "</style>\n",
       "<table border=\"1\" class=\"dataframe\">\n",
       "  <thead>\n",
       "    <tr style=\"text-align: right;\">\n",
       "      <th></th>\n",
       "      <th>city</th>\n",
       "      <th>year</th>\n",
       "      <th>manufacturer</th>\n",
       "      <th>make</th>\n",
       "      <th>condition</th>\n",
       "      <th>cylinders</th>\n",
       "      <th>fuel</th>\n",
       "      <th>title_status</th>\n",
       "      <th>transmission</th>\n",
       "      <th>drive</th>\n",
       "      <th>type</th>\n",
       "      <th>paint_color</th>\n",
       "      <th>county_name</th>\n",
       "      <th>state_code</th>\n",
       "      <th>state_name</th>\n",
       "    </tr>\n",
       "  </thead>\n",
       "  <tbody>\n",
       "    <tr>\n",
       "      <th>count</th>\n",
       "      <td>1723065</td>\n",
       "      <td>1723065</td>\n",
       "      <td>1586651</td>\n",
       "      <td>1653366</td>\n",
       "      <td>1022275</td>\n",
       "      <td>1031774</td>\n",
       "      <td>1712698</td>\n",
       "      <td>1720511</td>\n",
       "      <td>1714043</td>\n",
       "      <td>1061181</td>\n",
       "      <td>1020134</td>\n",
       "      <td>1027415</td>\n",
       "      <td>1664232</td>\n",
       "      <td>1664232</td>\n",
       "      <td>1723065</td>\n",
       "    </tr>\n",
       "    <tr>\n",
       "      <th>unique</th>\n",
       "      <td>470</td>\n",
       "      <td>127</td>\n",
       "      <td>53</td>\n",
       "      <td>107445</td>\n",
       "      <td>6</td>\n",
       "      <td>8</td>\n",
       "      <td>5</td>\n",
       "      <td>6</td>\n",
       "      <td>3</td>\n",
       "      <td>3</td>\n",
       "      <td>13</td>\n",
       "      <td>12</td>\n",
       "      <td>1834</td>\n",
       "      <td>51</td>\n",
       "      <td>52</td>\n",
       "    </tr>\n",
       "    <tr>\n",
       "      <th>top</th>\n",
       "      <td>cosprings</td>\n",
       "      <td>2007.0</td>\n",
       "      <td>ford</td>\n",
       "      <td>1500</td>\n",
       "      <td>excellent</td>\n",
       "      <td>6 cylinders</td>\n",
       "      <td>gas</td>\n",
       "      <td>clean</td>\n",
       "      <td>automatic</td>\n",
       "      <td>4wd</td>\n",
       "      <td>sedan</td>\n",
       "      <td>white</td>\n",
       "      <td>Jefferson</td>\n",
       "      <td>CA</td>\n",
       "      <td>California</td>\n",
       "    </tr>\n",
       "    <tr>\n",
       "      <th>freq</th>\n",
       "      <td>8283</td>\n",
       "      <td>108117</td>\n",
       "      <td>292841</td>\n",
       "      <td>23346</td>\n",
       "      <td>443538</td>\n",
       "      <td>362142</td>\n",
       "      <td>1531426</td>\n",
       "      <td>1601315</td>\n",
       "      <td>1474784</td>\n",
       "      <td>445603</td>\n",
       "      <td>271265</td>\n",
       "      <td>228920</td>\n",
       "      <td>18920</td>\n",
       "      <td>154299</td>\n",
       "      <td>154299</td>\n",
       "    </tr>\n",
       "  </tbody>\n",
       "</table>\n",
       "</div>"
      ],
      "text/plain": [
       "             city     year manufacturer     make  condition    cylinders  \\\n",
       "count     1723065  1723065      1586651  1653366    1022275      1031774   \n",
       "unique        470      127           53   107445          6            8   \n",
       "top     cosprings   2007.0         ford     1500  excellent  6 cylinders   \n",
       "freq         8283   108117       292841    23346     443538       362142   \n",
       "\n",
       "           fuel title_status transmission    drive     type paint_color  \\\n",
       "count   1712698      1720511      1714043  1061181  1020134     1027415   \n",
       "unique        5            6            3        3       13          12   \n",
       "top         gas        clean    automatic      4wd    sedan       white   \n",
       "freq    1531426      1601315      1474784   445603   271265      228920   \n",
       "\n",
       "       county_name state_code  state_name  \n",
       "count      1664232    1664232     1723065  \n",
       "unique        1834         51          52  \n",
       "top      Jefferson         CA  California  \n",
       "freq         18920     154299      154299  "
      ]
     },
     "execution_count": 16,
     "metadata": {},
     "output_type": "execute_result"
    }
   ],
   "source": [
    "categorical.describe()"
   ]
  },
  {
   "cell_type": "code",
   "execution_count": 17,
   "metadata": {},
   "outputs": [
    {
     "data": {
      "text/plain": [
       "type            702931\n",
       "condition       700790\n",
       "paint_color     695650\n",
       "cylinders       691291\n",
       "drive           661884\n",
       "manufacturer    136414\n",
       "make             69699\n",
       "state_code       58833\n",
       "county_name      58833\n",
       "fuel             10367\n",
       "transmission      9022\n",
       "title_status      2554\n",
       "state_name           0\n",
       "year                 0\n",
       "city                 0\n",
       "dtype: int64"
      ]
     },
     "execution_count": 17,
     "metadata": {},
     "output_type": "execute_result"
    }
   ],
   "source": [
    "categorical.isnull().sum().sort_values(ascending = False)"
   ]
  },
  {
   "cell_type": "markdown",
   "metadata": {},
   "source": [
    "#### mode of the categorical data"
   ]
  },
  {
   "cell_type": "code",
   "execution_count": 20,
   "metadata": {},
   "outputs": [
    {
     "name": "stderr",
     "output_type": "stream",
     "text": [
      "C:\\Users\\afifah064126\\AppData\\Local\\Continuum\\anaconda3\\lib\\site-packages\\ipykernel_launcher.py:3: SettingWithCopyWarning: \n",
      "A value is trying to be set on a copy of a slice from a DataFrame.\n",
      "Try using .loc[row_indexer,col_indexer] = value instead\n",
      "\n",
      "See the caveats in the documentation: http://pandas.pydata.org/pandas-docs/stable/indexing.html#indexing-view-versus-copy\n",
      "  This is separate from the ipykernel package so we can avoid doing imports until\n"
     ]
    }
   ],
   "source": [
    "for cat in categorical :\n",
    "    modus = categorical[cat].mode().values[0]\n",
    "    categorical[cat] = categorical[cat].fillna(modus)"
   ]
  },
  {
   "cell_type": "code",
   "execution_count": 21,
   "metadata": {},
   "outputs": [
    {
     "data": {
      "text/plain": [
       "state_name      0\n",
       "state_code      0\n",
       "county_name     0\n",
       "paint_color     0\n",
       "type            0\n",
       "drive           0\n",
       "transmission    0\n",
       "title_status    0\n",
       "fuel            0\n",
       "cylinders       0\n",
       "condition       0\n",
       "make            0\n",
       "manufacturer    0\n",
       "year            0\n",
       "city            0\n",
       "dtype: int64"
      ]
     },
     "execution_count": 21,
     "metadata": {},
     "output_type": "execute_result"
    }
   ],
   "source": [
    "categorical.isnull().sum().sort_values(ascending = False)"
   ]
  },
  {
   "cell_type": "markdown",
   "metadata": {},
   "source": [
    "### Outlier Detection"
   ]
  },
  {
   "cell_type": "code",
   "execution_count": 22,
   "metadata": {},
   "outputs": [],
   "source": [
    "import matplotlib.pyplot as plt \n",
    "import seaborn as sns "
   ]
  },
  {
   "cell_type": "code",
   "execution_count": 30,
   "metadata": {},
   "outputs": [
    {
     "data": {
      "text/plain": [
       "<matplotlib.axes._subplots.AxesSubplot at 0x1869f905208>"
      ]
     },
     "execution_count": 30,
     "metadata": {},
     "output_type": "execute_result"
    },
    {
     "data": {
      "image/png": "[encoded data removed]",
      "text/plain": [
       "<matplotlib.figure.Figure at 0x1869e784278>"
      ]
     },
     "metadata": {},
     "output_type": "display_data"
    }
   ],
   "source": [
    "f=plt.figure(figsize=(17,15))\n",
    "f.add_subplot(3,3,1)\n",
    "sns.boxplot(numerical['price'])\n",
    "f.add_subplot(3,3,2)\n",
    "sns.boxplot(numerical['odometer'])\n",
    "f.add_subplot(3,3,3)\n",
    "sns.boxplot(numerical['lat'])\n",
    "f.add_subplot(3,3,4)\n",
    "sns.boxplot(numerical['long'])\n",
    "f.add_subplot(3,3,5)\n",
    "sns.boxplot(numerical['county_fips'])\n",
    "f.add_subplot(3,3,6)\n",
    "sns.boxplot(numerical['state_fips'])\n",
    "f.add_subplot(3,3,7)\n",
    "sns.boxplot(numerical['weather'])"
   ]
  },
  {
   "cell_type": "markdown",
   "metadata": {},
   "source": [
    "From the box plot, we know that there are some variable that outliers. As we can see, variable that have outliers are variable *price, odometer, lat* and *long*."
   ]
  },
  {
   "cell_type": "code",
   "execution_count": null,
   "metadata": {},
   "outputs": [],
   "source": [
    "f=plt.figure(figsize=(17,15))\n",
    "axes = 530\n",
    "for cat in kategorik :\n",
    "    axes += 1\n",
    "    f.add_subplot(axes)\n",
    "    sns.countplot(data = categorical, x=cat)\n",
    "plt.show()"
   ]
  },
  {
   "cell_type": "markdown",
   "metadata": {},
   "source": [
    "### Visualization\n",
    "**Count Plot** for categorical data"
   ]
  },
  {
   "cell_type": "code",
   "execution_count": 46,
   "metadata": {},
   "outputs": [
    {
     "data": {
      "text/plain": [
       "<matplotlib.axes._subplots.AxesSubplot at 0x187672a8b38>"
      ]
     },
     "execution_count": 46,
     "metadata": {},
     "output_type": "execute_result"
    },
    {
     "data": {
      "image/png": "[encoded data removed]",
      "text/plain": [
       "<matplotlib.figure.Figure at 0x18765a653c8>"
      ]
     },
     "metadata": {},
     "output_type": "display_data"
    }
   ],
   "source": [
    "f=plt.figure(figsize=(21,15))\n",
    "f.add_subplot(3,2,1)\n",
    "sns.countplot(categorical['condition'])\n",
    "plt.xticks(rotation=10)\n",
    "f.add_subplot(3,2,2)\n",
    "sns.countplot(categorical['cylinders'])\n",
    "plt.xticks(rotation=10)\n",
    "f.add_subplot(3,2,3)\n",
    "sns.countplot(categorical['fuel'])\n",
    "f.add_subplot(3,2,4)\n",
    "sns.countplot(categorical['title_status'])\n",
    "f.add_subplot(3,2,5)\n",
    "sns.countplot(categorical['transmission'])\n",
    "f.add_subplot(3,2,6)\n",
    "sns.countplot(categorical['drive'])"
   ]
  },
  {
   "cell_type": "code",
   "execution_count": 53,
   "metadata": {},
   "outputs": [
    {
     "data": {
      "image/png": "[encoded data removed]",
      "text/plain": [
       "<matplotlib.figure.Figure at 0x187693f9b38>"
      ]
     },
     "metadata": {},
     "output_type": "display_data"
    }
   ],
   "source": [
    "plt.figure(figsize=(21,5))\n",
    "sns.countplot(categorical['manufacturer'], order = categorical['manufacturer'].value_counts().index)\n",
    "plt.xticks(rotation=60)\n",
    "plt.show()"
   ]
  },
  {
   "cell_type": "code",
   "execution_count": null,
   "metadata": {},
   "outputs": [],
   "source": [
    "plt.figure(figsize=(21,5))\n",
    "sns.countplot(categorical['make'], order = categorical['make'].value_counts().index)\n",
    "plt.xticks(rotation=60)\n",
    "plt.show()"
   ]
  },
  {
   "cell_type": "code",
   "execution_count": 56,
   "metadata": {},
   "outputs": [
    {
     "data": {
      "image/png": "[encoded data removed]",
      "text/plain": [
       "<matplotlib.figure.Figure at 0x18827a9ea20>"
      ]
     },
     "metadata": {},
     "output_type": "display_data"
    }
   ],
   "source": [
    "plt.figure(figsize=(21,5))\n",
    "sns.countplot(categorical['type'], order = categorical['type'].value_counts().index)\n",
    "plt.show()"
   ]
  },
  {
   "cell_type": "code",
   "execution_count": 57,
   "metadata": {},
   "outputs": [
    {
     "data": {
      "image/png": "[encoded data removed]",
      "text/plain": [
       "<matplotlib.figure.Figure at 0x18827906748>"
      ]
     },
     "metadata": {},
     "output_type": "display_data"
    }
   ],
   "source": [
    "plt.figure(figsize=(21,5))\n",
    "sns.countplot(categorical['paint_color'], categorical = data['paint_color'].value_counts().index)\n",
    "plt.xticks(rotation=60)\n",
    "plt.show()"
   ]
  },
  {
   "cell_type": "code",
   "execution_count": 58,
   "metadata": {},
   "outputs": [
    {
     "data": {
      "image/png": "[encoded data removed]",
      "text/plain": [
       "<matplotlib.figure.Figure at 0x18827879f60>"
      ]
     },
     "metadata": {},
     "output_type": "display_data"
    }
   ],
   "source": [
    "plt.figure(figsize=(21,5))\n",
    "sns.countplot(categorical['state_name'], categorical = data['state_name'].value_counts().index)\n",
    "plt.xticks(rotation=60)\n",
    "plt.show()"
   ]
  },
  {
   "cell_type": "code",
   "execution_count": 59,
   "metadata": {},
   "outputs": [
    {
     "data": {
      "image/png": "[encoded data removed]",
      "text/plain": [
       "<matplotlib.figure.Figure at 0x188276f5940>"
      ]
     },
     "metadata": {},
     "output_type": "display_data"
    }
   ],
   "source": [
    "plt.figure(figsize=(21,5))\n",
    "sns.countplot(categorical['state_code'], categorical = data['state_code'].value_counts().index)\n",
    "plt.xticks(rotation=60)\n",
    "plt.show()"
   ]
  },
  {
   "cell_type": "code",
   "execution_count": 65,
   "metadata": {},
   "outputs": [
    {
     "data": {
      "text/html": [
       "<div>\n",
       "<style scoped>\n",
       "    .dataframe tbody tr th:only-of-type {\n",
       "        vertical-align: middle;\n",
       "    }\n",
       "\n",
       "    .dataframe tbody tr th {\n",
       "        vertical-align: top;\n",
       "    }\n",
       "\n",
       "    .dataframe thead th {\n",
       "        text-align: right;\n",
       "    }\n",
       "</style>\n",
       "<table border=\"1\" class=\"dataframe\">\n",
       "  <thead>\n",
       "    <tr style=\"text-align: right;\">\n",
       "      <th></th>\n",
       "      <th>state_name</th>\n",
       "      <th>state_code</th>\n",
       "    </tr>\n",
       "  </thead>\n",
       "  <tbody>\n",
       "    <tr>\n",
       "      <th>0</th>\n",
       "      <td>South Dakota</td>\n",
       "      <td>SD</td>\n",
       "    </tr>\n",
       "    <tr>\n",
       "      <th>1</th>\n",
       "      <td>South Dakota</td>\n",
       "      <td>SD</td>\n",
       "    </tr>\n",
       "    <tr>\n",
       "      <th>2</th>\n",
       "      <td>South Dakota</td>\n",
       "      <td>SD</td>\n",
       "    </tr>\n",
       "    <tr>\n",
       "      <th>3</th>\n",
       "      <td>Iowa</td>\n",
       "      <td>IA</td>\n",
       "    </tr>\n",
       "    <tr>\n",
       "      <th>4</th>\n",
       "      <td>Iowa</td>\n",
       "      <td>IA</td>\n",
       "    </tr>\n",
       "  </tbody>\n",
       "</table>\n",
       "</div>"
      ],
      "text/plain": [
       "     state_name state_code\n",
       "0  South Dakota         SD\n",
       "1  South Dakota         SD\n",
       "2  South Dakota         SD\n",
       "3          Iowa         IA\n",
       "4          Iowa         IA"
      ]
     },
     "execution_count": 65,
     "metadata": {},
     "output_type": "execute_result"
    }
   ],
   "source": [
    "categorical[['state_name','state_code']].head()"
   ]
  },
  {
   "cell_type": "code",
   "execution_count": 68,
   "metadata": {},
   "outputs": [
    {
     "data": {
      "text/html": [
       "<div>\n",
       "<style scoped>\n",
       "    .dataframe tbody tr th:only-of-type {\n",
       "        vertical-align: middle;\n",
       "    }\n",
       "\n",
       "    .dataframe tbody tr th {\n",
       "        vertical-align: top;\n",
       "    }\n",
       "\n",
       "    .dataframe thead th {\n",
       "        text-align: right;\n",
       "    }\n",
       "</style>\n",
       "<table border=\"1\" class=\"dataframe\">\n",
       "  <thead>\n",
       "    <tr style=\"text-align: right;\">\n",
       "      <th></th>\n",
       "      <th>state_name</th>\n",
       "      <th>state_code</th>\n",
       "    </tr>\n",
       "  </thead>\n",
       "  <tbody>\n",
       "    <tr>\n",
       "      <th>1723060</th>\n",
       "      <td>South Dakota</td>\n",
       "      <td>SD</td>\n",
       "    </tr>\n",
       "    <tr>\n",
       "      <th>1723061</th>\n",
       "      <td>South Dakota</td>\n",
       "      <td>SD</td>\n",
       "    </tr>\n",
       "    <tr>\n",
       "      <th>1723062</th>\n",
       "      <td>Illinois</td>\n",
       "      <td>IL</td>\n",
       "    </tr>\n",
       "    <tr>\n",
       "      <th>1723063</th>\n",
       "      <td>Iowa</td>\n",
       "      <td>IA</td>\n",
       "    </tr>\n",
       "    <tr>\n",
       "      <th>1723064</th>\n",
       "      <td>Iowa</td>\n",
       "      <td>IA</td>\n",
       "    </tr>\n",
       "  </tbody>\n",
       "</table>\n",
       "</div>"
      ],
      "text/plain": [
       "           state_name state_code\n",
       "1723060  South Dakota         SD\n",
       "1723061  South Dakota         SD\n",
       "1723062      Illinois         IL\n",
       "1723063          Iowa         IA\n",
       "1723064          Iowa         IA"
      ]
     },
     "execution_count": 68,
     "metadata": {},
     "output_type": "execute_result"
    }
   ],
   "source": [
    "categorical[['state_name','state_code']].tail()"
   ]
  },
  {
   "cell_type": "markdown",
   "metadata": {},
   "source": [
    "#### Correlation Plot"
   ]
  },
  {
   "cell_type": "code",
   "execution_count": 70,
   "metadata": {},
   "outputs": [
    {
     "ename": "MemoryError",
     "evalue": "",
     "output_type": "error",
     "traceback": [
      "\u001b[1;31m---------------------------------------------------------------------------\u001b[0m",
      "\u001b[1;31mMemoryError\u001b[0m                               Traceback (most recent call last)",
      "\u001b[1;32m<ipython-input-70-121693843ebd>\u001b[0m in \u001b[0;36m<module>\u001b[1;34m()\u001b[0m\n\u001b[1;32m----> 1\u001b[1;33m \u001b[0mdata\u001b[0m \u001b[1;33m=\u001b[0m \u001b[0mpd\u001b[0m\u001b[1;33m.\u001b[0m\u001b[0mconcat\u001b[0m\u001b[1;33m(\u001b[0m\u001b[1;33m[\u001b[0m\u001b[0mnumerical\u001b[0m\u001b[1;33m,\u001b[0m \u001b[0mcategorical\u001b[0m\u001b[1;33m]\u001b[0m\u001b[1;33m,\u001b[0m \u001b[0maxis\u001b[0m \u001b[1;33m=\u001b[0m \u001b[1;36m1\u001b[0m\u001b[1;33m)\u001b[0m\u001b[1;33m\u001b[0m\u001b[0m\n\u001b[0m",
      "\u001b[1;32m~\\AppData\\Local\\Continuum\\anaconda3\\lib\\site-packages\\pandas\\core\\reshape\\concat.py\u001b[0m in \u001b[0;36mconcat\u001b[1;34m(objs, axis, join, join_axes, ignore_index, keys, levels, names, verify_integrity, copy)\u001b[0m\n\u001b[0;32m    211\u001b[0m                        \u001b[0mverify_integrity\u001b[0m\u001b[1;33m=\u001b[0m\u001b[0mverify_integrity\u001b[0m\u001b[1;33m,\u001b[0m\u001b[1;33m\u001b[0m\u001b[0m\n\u001b[0;32m    212\u001b[0m                        copy=copy)\n\u001b[1;32m--> 213\u001b[1;33m     \u001b[1;32mreturn\u001b[0m \u001b[0mop\u001b[0m\u001b[1;33m.\u001b[0m\u001b[0mget_result\u001b[0m\u001b[1;33m(\u001b[0m\u001b[1;33m)\u001b[0m\u001b[1;33m\u001b[0m\u001b[0m\n\u001b[0m\u001b[0;32m    214\u001b[0m \u001b[1;33m\u001b[0m\u001b[0m\n\u001b[0;32m    215\u001b[0m \u001b[1;33m\u001b[0m\u001b[0m\n",
      "\u001b[1;32m~\\AppData\\Local\\Continuum\\anaconda3\\lib\\site-packages\\pandas\\core\\reshape\\concat.py\u001b[0m in \u001b[0;36mget_result\u001b[1;34m(self)\u001b[0m\n\u001b[0;32m    406\u001b[0m             new_data = concatenate_block_managers(\n\u001b[0;32m    407\u001b[0m                 \u001b[0mmgrs_indexers\u001b[0m\u001b[1;33m,\u001b[0m \u001b[0mself\u001b[0m\u001b[1;33m.\u001b[0m\u001b[0mnew_axes\u001b[0m\u001b[1;33m,\u001b[0m \u001b[0mconcat_axis\u001b[0m\u001b[1;33m=\u001b[0m\u001b[0mself\u001b[0m\u001b[1;33m.\u001b[0m\u001b[0maxis\u001b[0m\u001b[1;33m,\u001b[0m\u001b[1;33m\u001b[0m\u001b[0m\n\u001b[1;32m--> 408\u001b[1;33m                 copy=self.copy)\n\u001b[0m\u001b[0;32m    409\u001b[0m             \u001b[1;32mif\u001b[0m \u001b[1;32mnot\u001b[0m \u001b[0mself\u001b[0m\u001b[1;33m.\u001b[0m\u001b[0mcopy\u001b[0m\u001b[1;33m:\u001b[0m\u001b[1;33m\u001b[0m\u001b[0m\n\u001b[0;32m    410\u001b[0m                 \u001b[0mnew_data\u001b[0m\u001b[1;33m.\u001b[0m\u001b[0m_consolidate_inplace\u001b[0m\u001b[1;33m(\u001b[0m\u001b[1;33m)\u001b[0m\u001b[1;33m\u001b[0m\u001b[0m\n",
      "\u001b[1;32m~\\AppData\\Local\\Continuum\\anaconda3\\lib\\site-packages\\pandas\\core\\internals.py\u001b[0m in \u001b[0;36mconcatenate_block_managers\u001b[1;34m(mgrs_indexers, axes, concat_axis, copy)\u001b[0m\n\u001b[0;32m   5192\u001b[0m             \u001b[0mvalues\u001b[0m \u001b[1;33m=\u001b[0m \u001b[0mb\u001b[0m\u001b[1;33m.\u001b[0m\u001b[0mvalues\u001b[0m\u001b[1;33m\u001b[0m\u001b[0m\n\u001b[0;32m   5193\u001b[0m             \u001b[1;32mif\u001b[0m \u001b[0mcopy\u001b[0m\u001b[1;33m:\u001b[0m\u001b[1;33m\u001b[0m\u001b[0m\n\u001b[1;32m-> 5194\u001b[1;33m                 \u001b[0mvalues\u001b[0m \u001b[1;33m=\u001b[0m \u001b[0mvalues\u001b[0m\u001b[1;33m.\u001b[0m\u001b[0mcopy\u001b[0m\u001b[1;33m(\u001b[0m\u001b[1;33m)\u001b[0m\u001b[1;33m\u001b[0m\u001b[0m\n\u001b[0m\u001b[0;32m   5195\u001b[0m             \u001b[1;32melif\u001b[0m \u001b[1;32mnot\u001b[0m \u001b[0mcopy\u001b[0m\u001b[1;33m:\u001b[0m\u001b[1;33m\u001b[0m\u001b[0m\n\u001b[0;32m   5196\u001b[0m                 \u001b[0mvalues\u001b[0m \u001b[1;33m=\u001b[0m \u001b[0mvalues\u001b[0m\u001b[1;33m.\u001b[0m\u001b[0mview\u001b[0m\u001b[1;33m(\u001b[0m\u001b[1;33m)\u001b[0m\u001b[1;33m\u001b[0m\u001b[0m\n",
      "\u001b[1;31mMemoryError\u001b[0m: "
     ]
    }
   ],
   "source": [
    "data = pd.concat([numerical, categorical], axis = 1)"
   ]
  },
  {
   "cell_type": "code",
   "execution_count": 29,
   "metadata": {},
   "outputs": [
    {
     "data": {
      "text/html": [
       "<div>\n",
       "<style scoped>\n",
       "    .dataframe tbody tr th:only-of-type {\n",
       "        vertical-align: middle;\n",
       "    }\n",
       "\n",
       "    .dataframe tbody tr th {\n",
       "        vertical-align: top;\n",
       "    }\n",
       "\n",
       "    .dataframe thead th {\n",
       "        text-align: right;\n",
       "    }\n",
       "</style>\n",
       "<table border=\"1\" class=\"dataframe\">\n",
       "  <thead>\n",
       "    <tr style=\"text-align: right;\">\n",
       "      <th></th>\n",
       "      <th>price</th>\n",
       "      <th>odometer</th>\n",
       "      <th>lat</th>\n",
       "      <th>long</th>\n",
       "      <th>county_fips</th>\n",
       "      <th>state_fips</th>\n",
       "      <th>weather</th>\n",
       "      <th>city</th>\n",
       "      <th>year</th>\n",
       "      <th>manufacturer</th>\n",
       "      <th>...</th>\n",
       "      <th>cylinders</th>\n",
       "      <th>fuel</th>\n",
       "      <th>title_status</th>\n",
       "      <th>transmission</th>\n",
       "      <th>drive</th>\n",
       "      <th>type</th>\n",
       "      <th>paint_color</th>\n",
       "      <th>county_name</th>\n",
       "      <th>state_code</th>\n",
       "      <th>state_name</th>\n",
       "    </tr>\n",
       "  </thead>\n",
       "  <tbody>\n",
       "    <tr>\n",
       "      <th>0</th>\n",
       "      <td>11900</td>\n",
       "      <td>43600.000000</td>\n",
       "      <td>43.4775</td>\n",
       "      <td>-96.7041</td>\n",
       "      <td>46083.0</td>\n",
       "      <td>46.0</td>\n",
       "      <td>38.0</td>\n",
       "      <td>marshall</td>\n",
       "      <td>2010.0</td>\n",
       "      <td>dodge</td>\n",
       "      <td>...</td>\n",
       "      <td>6 cylinders</td>\n",
       "      <td>gas</td>\n",
       "      <td>clean</td>\n",
       "      <td>automatic</td>\n",
       "      <td>rwd</td>\n",
       "      <td>coupe</td>\n",
       "      <td>red</td>\n",
       "      <td>Lincoln</td>\n",
       "      <td>SD</td>\n",
       "      <td>South Dakota</td>\n",
       "    </tr>\n",
       "    <tr>\n",
       "      <th>1</th>\n",
       "      <td>1515</td>\n",
       "      <td>113638.652723</td>\n",
       "      <td>44.7612</td>\n",
       "      <td>-96.6907</td>\n",
       "      <td>46039.0</td>\n",
       "      <td>46.0</td>\n",
       "      <td>38.0</td>\n",
       "      <td>marshall</td>\n",
       "      <td>1999.0</td>\n",
       "      <td>ford</td>\n",
       "      <td>...</td>\n",
       "      <td>6 cylinders</td>\n",
       "      <td>gas</td>\n",
       "      <td>clean</td>\n",
       "      <td>other</td>\n",
       "      <td>4wd</td>\n",
       "      <td>sedan</td>\n",
       "      <td>white</td>\n",
       "      <td>Deuel</td>\n",
       "      <td>SD</td>\n",
       "      <td>South Dakota</td>\n",
       "    </tr>\n",
       "    <tr>\n",
       "      <th>2</th>\n",
       "      <td>17550</td>\n",
       "      <td>113638.652723</td>\n",
       "      <td>44.1415</td>\n",
       "      <td>-103.2052</td>\n",
       "      <td>46093.0</td>\n",
       "      <td>46.0</td>\n",
       "      <td>38.0</td>\n",
       "      <td>marshall</td>\n",
       "      <td>2008.0</td>\n",
       "      <td>ford</td>\n",
       "      <td>...</td>\n",
       "      <td>6 cylinders</td>\n",
       "      <td>gas</td>\n",
       "      <td>clean</td>\n",
       "      <td>automatic</td>\n",
       "      <td>4wd</td>\n",
       "      <td>sedan</td>\n",
       "      <td>white</td>\n",
       "      <td>Meade</td>\n",
       "      <td>SD</td>\n",
       "      <td>South Dakota</td>\n",
       "    </tr>\n",
       "    <tr>\n",
       "      <th>3</th>\n",
       "      <td>2800</td>\n",
       "      <td>168591.000000</td>\n",
       "      <td>43.2845</td>\n",
       "      <td>-95.5930</td>\n",
       "      <td>19143.0</td>\n",
       "      <td>19.0</td>\n",
       "      <td>47.0</td>\n",
       "      <td>marshall</td>\n",
       "      <td>2004.0</td>\n",
       "      <td>ford</td>\n",
       "      <td>...</td>\n",
       "      <td>6 cylinders</td>\n",
       "      <td>gas</td>\n",
       "      <td>clean</td>\n",
       "      <td>automatic</td>\n",
       "      <td>fwd</td>\n",
       "      <td>sedan</td>\n",
       "      <td>grey</td>\n",
       "      <td>Osceola</td>\n",
       "      <td>IA</td>\n",
       "      <td>Iowa</td>\n",
       "    </tr>\n",
       "    <tr>\n",
       "      <th>4</th>\n",
       "      <td>400</td>\n",
       "      <td>217000.000000</td>\n",
       "      <td>43.0261</td>\n",
       "      <td>-94.4064</td>\n",
       "      <td>19109.0</td>\n",
       "      <td>19.0</td>\n",
       "      <td>47.0</td>\n",
       "      <td>marshall</td>\n",
       "      <td>2001.0</td>\n",
       "      <td>ford</td>\n",
       "      <td>...</td>\n",
       "      <td>6 cylinders</td>\n",
       "      <td>gas</td>\n",
       "      <td>clean</td>\n",
       "      <td>automatic</td>\n",
       "      <td>4wd</td>\n",
       "      <td>sedan</td>\n",
       "      <td>white</td>\n",
       "      <td>Kossuth</td>\n",
       "      <td>IA</td>\n",
       "      <td>Iowa</td>\n",
       "    </tr>\n",
       "  </tbody>\n",
       "</table>\n",
       "<p>5 rows × 22 columns</p>\n",
       "</div>"
      ],
      "text/plain": [
       "   price       odometer      lat      long  county_fips  state_fips  weather  \\\n",
       "0  11900   43600.000000  43.4775  -96.7041      46083.0        46.0     38.0   \n",
       "1   1515  113638.652723  44.7612  -96.6907      46039.0        46.0     38.0   \n",
       "2  17550  113638.652723  44.1415 -103.2052      46093.0        46.0     38.0   \n",
       "3   2800  168591.000000  43.2845  -95.5930      19143.0        19.0     47.0   \n",
       "4    400  217000.000000  43.0261  -94.4064      19109.0        19.0     47.0   \n",
       "\n",
       "       city    year manufacturer      ...         cylinders fuel title_status  \\\n",
       "0  marshall  2010.0        dodge      ...       6 cylinders  gas        clean   \n",
       "1  marshall  1999.0         ford      ...       6 cylinders  gas        clean   \n",
       "2  marshall  2008.0         ford      ...       6 cylinders  gas        clean   \n",
       "3  marshall  2004.0         ford      ...       6 cylinders  gas        clean   \n",
       "4  marshall  2001.0         ford      ...       6 cylinders  gas        clean   \n",
       "\n",
       "  transmission drive   type paint_color county_name state_code    state_name  \n",
       "0    automatic   rwd  coupe         red     Lincoln         SD  South Dakota  \n",
       "1        other   4wd  sedan       white       Deuel         SD  South Dakota  \n",
       "2    automatic   4wd  sedan       white       Meade         SD  South Dakota  \n",
       "3    automatic   fwd  sedan        grey     Osceola         IA          Iowa  \n",
       "4    automatic   4wd  sedan       white     Kossuth         IA          Iowa  \n",
       "\n",
       "[5 rows x 22 columns]"
      ]
     },
     "execution_count": 29,
     "metadata": {},
     "output_type": "execute_result"
    }
   ],
   "source": [
    "data.head()"
   ]
  },
  {
   "cell_type": "markdown",
   "metadata": {},
   "source": [
    "From the **Bar Plot** we know that :\n",
    "- Vehicle condition that dominant is *excellent*\n",
    "- *Six* is number of cylinders that dominant\n",
    "- Type of fuel required that dominant is *gas*\n",
    "- Title status that dominant is *clean*\n",
    "- From 3 type of transmission automatic, manual and other, thed ominant is the *automatic*\n",
    "- Drive of vehicle that dominant is *4wd*"
   ]
  }
 ],
 "metadata": {
  "kernelspec": {
   "display_name": "Python 3",
   "language": "python",
   "name": "python3"
  },
  "language_info": {
   "codemirror_mode": {
    "name": "ipython",
    "version": 3
   },
   "file_extension": ".py",
   "mimetype": "text/x-python",
   "name": "python",
   "nbconvert_exporter": "python",
   "pygments_lexer": "ipython3",
   "version": "3.6.4"
  }
 },
 "nbformat": 4,
 "nbformat_minor": 2
}
